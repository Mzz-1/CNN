{
  "nbformat": 4,
  "nbformat_minor": 0,
  "metadata": {
    "colab": {
      "provenance": [],
      "gpuType": "V28"
    },
    "kernelspec": {
      "name": "python3",
      "display_name": "Python 3"
    },
    "language_info": {
      "name": "python"
    },
    "accelerator": "TPU"
  },
  "cells": [
    {
      "cell_type": "code",
      "execution_count": 29,
      "metadata": {
        "id": "B5TPUXBODjx5"
      },
      "outputs": [],
      "source": [
        "import tensorflow as tf\n",
        "from keras.utils import to_categorical\n",
        "from tensorflow.keras import layers, models, callbacks\n",
        "from sklearn.model_selection import train_test_split\n",
        "import matplotlib.pyplot as plt\n"
      ]
    },
    {
      "cell_type": "code",
      "source": [
        "(train_images, train_labels), (test_images, test_labels) = tf.keras.datasets.cifar10.load_data()"
      ],
      "metadata": {
        "colab": {
          "base_uri": "https://localhost:8080/"
        },
        "id": "_XC36ENqDqw3",
        "outputId": "e9b49ad8-00f3-4900-c93c-a49a21d540b7"
      },
      "execution_count": 2,
      "outputs": [
        {
          "output_type": "stream",
          "name": "stdout",
          "text": [
            "Downloading data from https://www.cs.toronto.edu/~kriz/cifar-10-python.tar.gz\n",
            "170498071/170498071 [==============================] - 2s 0us/step\n"
          ]
        }
      ]
    },
    {
      "cell_type": "code",
      "source": [
        "test_images = test_images.astype('float32')\n",
        "train_images = train_images.astype('float32')\n",
        "test_images = test_images / 255\n",
        "train_images = train_images / 255\n",
        "\n",
        "num_classes = 10"
      ],
      "metadata": {
        "id": "rHAZdCo7DtXe"
      },
      "execution_count": 3,
      "outputs": []
    },
    {
      "cell_type": "code",
      "source": [
        "def residual_block(x, filters, stride=1):\n",
        "    shortcut = x\n",
        "    x = layers.Conv2D(filters, (3, 3), strides=stride, padding='same', use_bias=False)(x)\n",
        "    x = layers.BatchNormalization()(x)\n",
        "    x = layers.ReLU()(x)\n",
        "    x = layers.Conv2D(filters, (3, 3), strides=1, padding='same', use_bias=False)(x)\n",
        "    x = layers.BatchNormalization()(x)\n",
        "\n",
        "    if stride != 1 or shortcut.shape[-1] != filters:\n",
        "        shortcut = layers.Conv2D(filters, (1, 1), strides=stride, use_bias=False)(shortcut)\n",
        "        shortcut = layers.BatchNormalization()(shortcut)\n",
        "\n",
        "    x = layers.Add()([x, shortcut])\n",
        "    x = layers.ReLU()(x)\n",
        "    return x"
      ],
      "metadata": {
        "id": "2LELLIVSD5R1"
      },
      "execution_count": 8,
      "outputs": []
    },
    {
      "cell_type": "code",
      "source": [
        "# Define ResNet-18\n",
        "def resnet18(input_shape=(32, 32, 3), num_classes=10):\n",
        "    inputs = layers.Input(shape=input_shape)\n",
        "    x = layers.Conv2D(64, (7, 7), strides=2, padding='same', use_bias=False)(inputs)\n",
        "    x = layers.BatchNormalization()(x)\n",
        "    x = layers.ReLU()(x)\n",
        "    x = layers.MaxPooling2D((3, 3), strides=2, padding='same')(x)\n",
        "\n",
        "    x = residual_block(x, 64)\n",
        "    x = residual_block(x, 64)\n",
        "\n",
        "    x = residual_block(x, 128, stride=2)\n",
        "    x = residual_block(x, 128)\n",
        "\n",
        "    x = residual_block(x, 256, stride=2)\n",
        "    x = residual_block(x, 256)\n",
        "\n",
        "    x = residual_block(x, 512, stride=2)\n",
        "    x = residual_block(x, 512)\n",
        "\n",
        "    x = layers.GlobalAveragePooling2D()(x)\n",
        "    outputs = layers.Dense(num_classes, activation='softmax')(x)\n",
        "\n",
        "    model = models.Model(inputs, outputs)\n",
        "    return model"
      ],
      "metadata": {
        "id": "DX0ufUMLD5z6"
      },
      "execution_count": 9,
      "outputs": []
    },
    {
      "cell_type": "code",
      "source": [
        "model = resnet18(input_shape=(32, 32, 3), num_classes=10)\n",
        "model.compile(optimizer=tf.keras.optimizers.Adam(learning_rate=1e-4),\n",
        "              loss=tf.keras.losses.SparseCategoricalCrossentropy(),\n",
        "              metrics=['accuracy'])"
      ],
      "metadata": {
        "id": "E6AVtrezD6AY"
      },
      "execution_count": 6,
      "outputs": []
    },
    {
      "cell_type": "code",
      "source": [
        "model.summary()"
      ],
      "metadata": {
        "colab": {
          "base_uri": "https://localhost:8080/"
        },
        "id": "PU0koqB-EAEi",
        "outputId": "e4483d94-2eb9-4808-c570-a4daacce6006"
      },
      "execution_count": 7,
      "outputs": [
        {
          "output_type": "stream",
          "name": "stdout",
          "text": [
            "Model: \"model\"\n",
            "__________________________________________________________________________________________________\n",
            " Layer (type)                Output Shape                 Param #   Connected to                  \n",
            "==================================================================================================\n",
            " input_1 (InputLayer)        [(None, 32, 32, 3)]          0         []                            \n",
            "                                                                                                  \n",
            " conv2d (Conv2D)             (None, 16, 16, 64)           9408      ['input_1[0][0]']             \n",
            "                                                                                                  \n",
            " batch_normalization (Batch  (None, 16, 16, 64)           256       ['conv2d[0][0]']              \n",
            " Normalization)                                                                                   \n",
            "                                                                                                  \n",
            " re_lu (ReLU)                (None, 16, 16, 64)           0         ['batch_normalization[0][0]'] \n",
            "                                                                                                  \n",
            " max_pooling2d (MaxPooling2  (None, 8, 8, 64)             0         ['re_lu[0][0]']               \n",
            " D)                                                                                               \n",
            "                                                                                                  \n",
            " conv2d_1 (Conv2D)           (None, 8, 8, 64)             36864     ['max_pooling2d[0][0]']       \n",
            "                                                                                                  \n",
            " batch_normalization_1 (Bat  (None, 8, 8, 64)             256       ['conv2d_1[0][0]']            \n",
            " chNormalization)                                                                                 \n",
            "                                                                                                  \n",
            " re_lu_1 (ReLU)              (None, 8, 8, 64)             0         ['batch_normalization_1[0][0]'\n",
            "                                                                    ]                             \n",
            "                                                                                                  \n",
            " conv2d_2 (Conv2D)           (None, 8, 8, 64)             36864     ['re_lu_1[0][0]']             \n",
            "                                                                                                  \n",
            " batch_normalization_2 (Bat  (None, 8, 8, 64)             256       ['conv2d_2[0][0]']            \n",
            " chNormalization)                                                                                 \n",
            "                                                                                                  \n",
            " add (Add)                   (None, 8, 8, 64)             0         ['batch_normalization_2[0][0]'\n",
            "                                                                    , 'max_pooling2d[0][0]']      \n",
            "                                                                                                  \n",
            " re_lu_2 (ReLU)              (None, 8, 8, 64)             0         ['add[0][0]']                 \n",
            "                                                                                                  \n",
            " conv2d_3 (Conv2D)           (None, 8, 8, 64)             36864     ['re_lu_2[0][0]']             \n",
            "                                                                                                  \n",
            " batch_normalization_3 (Bat  (None, 8, 8, 64)             256       ['conv2d_3[0][0]']            \n",
            " chNormalization)                                                                                 \n",
            "                                                                                                  \n",
            " re_lu_3 (ReLU)              (None, 8, 8, 64)             0         ['batch_normalization_3[0][0]'\n",
            "                                                                    ]                             \n",
            "                                                                                                  \n",
            " conv2d_4 (Conv2D)           (None, 8, 8, 64)             36864     ['re_lu_3[0][0]']             \n",
            "                                                                                                  \n",
            " batch_normalization_4 (Bat  (None, 8, 8, 64)             256       ['conv2d_4[0][0]']            \n",
            " chNormalization)                                                                                 \n",
            "                                                                                                  \n",
            " add_1 (Add)                 (None, 8, 8, 64)             0         ['batch_normalization_4[0][0]'\n",
            "                                                                    , 're_lu_2[0][0]']            \n",
            "                                                                                                  \n",
            " re_lu_4 (ReLU)              (None, 8, 8, 64)             0         ['add_1[0][0]']               \n",
            "                                                                                                  \n",
            " conv2d_5 (Conv2D)           (None, 4, 4, 128)            73728     ['re_lu_4[0][0]']             \n",
            "                                                                                                  \n",
            " batch_normalization_5 (Bat  (None, 4, 4, 128)            512       ['conv2d_5[0][0]']            \n",
            " chNormalization)                                                                                 \n",
            "                                                                                                  \n",
            " re_lu_5 (ReLU)              (None, 4, 4, 128)            0         ['batch_normalization_5[0][0]'\n",
            "                                                                    ]                             \n",
            "                                                                                                  \n",
            " conv2d_6 (Conv2D)           (None, 4, 4, 128)            147456    ['re_lu_5[0][0]']             \n",
            "                                                                                                  \n",
            " conv2d_7 (Conv2D)           (None, 4, 4, 128)            8192      ['re_lu_4[0][0]']             \n",
            "                                                                                                  \n",
            " batch_normalization_6 (Bat  (None, 4, 4, 128)            512       ['conv2d_6[0][0]']            \n",
            " chNormalization)                                                                                 \n",
            "                                                                                                  \n",
            " batch_normalization_7 (Bat  (None, 4, 4, 128)            512       ['conv2d_7[0][0]']            \n",
            " chNormalization)                                                                                 \n",
            "                                                                                                  \n",
            " add_2 (Add)                 (None, 4, 4, 128)            0         ['batch_normalization_6[0][0]'\n",
            "                                                                    , 'batch_normalization_7[0][0]\n",
            "                                                                    ']                            \n",
            "                                                                                                  \n",
            " re_lu_6 (ReLU)              (None, 4, 4, 128)            0         ['add_2[0][0]']               \n",
            "                                                                                                  \n",
            " conv2d_8 (Conv2D)           (None, 4, 4, 128)            147456    ['re_lu_6[0][0]']             \n",
            "                                                                                                  \n",
            " batch_normalization_8 (Bat  (None, 4, 4, 128)            512       ['conv2d_8[0][0]']            \n",
            " chNormalization)                                                                                 \n",
            "                                                                                                  \n",
            " re_lu_7 (ReLU)              (None, 4, 4, 128)            0         ['batch_normalization_8[0][0]'\n",
            "                                                                    ]                             \n",
            "                                                                                                  \n",
            " conv2d_9 (Conv2D)           (None, 4, 4, 128)            147456    ['re_lu_7[0][0]']             \n",
            "                                                                                                  \n",
            " batch_normalization_9 (Bat  (None, 4, 4, 128)            512       ['conv2d_9[0][0]']            \n",
            " chNormalization)                                                                                 \n",
            "                                                                                                  \n",
            " add_3 (Add)                 (None, 4, 4, 128)            0         ['batch_normalization_9[0][0]'\n",
            "                                                                    , 're_lu_6[0][0]']            \n",
            "                                                                                                  \n",
            " re_lu_8 (ReLU)              (None, 4, 4, 128)            0         ['add_3[0][0]']               \n",
            "                                                                                                  \n",
            " conv2d_10 (Conv2D)          (None, 2, 2, 256)            294912    ['re_lu_8[0][0]']             \n",
            "                                                                                                  \n",
            " batch_normalization_10 (Ba  (None, 2, 2, 256)            1024      ['conv2d_10[0][0]']           \n",
            " tchNormalization)                                                                                \n",
            "                                                                                                  \n",
            " re_lu_9 (ReLU)              (None, 2, 2, 256)            0         ['batch_normalization_10[0][0]\n",
            "                                                                    ']                            \n",
            "                                                                                                  \n",
            " conv2d_11 (Conv2D)          (None, 2, 2, 256)            589824    ['re_lu_9[0][0]']             \n",
            "                                                                                                  \n",
            " conv2d_12 (Conv2D)          (None, 2, 2, 256)            32768     ['re_lu_8[0][0]']             \n",
            "                                                                                                  \n",
            " batch_normalization_11 (Ba  (None, 2, 2, 256)            1024      ['conv2d_11[0][0]']           \n",
            " tchNormalization)                                                                                \n",
            "                                                                                                  \n",
            " batch_normalization_12 (Ba  (None, 2, 2, 256)            1024      ['conv2d_12[0][0]']           \n",
            " tchNormalization)                                                                                \n",
            "                                                                                                  \n",
            " add_4 (Add)                 (None, 2, 2, 256)            0         ['batch_normalization_11[0][0]\n",
            "                                                                    ',                            \n",
            "                                                                     'batch_normalization_12[0][0]\n",
            "                                                                    ']                            \n",
            "                                                                                                  \n",
            " re_lu_10 (ReLU)             (None, 2, 2, 256)            0         ['add_4[0][0]']               \n",
            "                                                                                                  \n",
            " conv2d_13 (Conv2D)          (None, 2, 2, 256)            589824    ['re_lu_10[0][0]']            \n",
            "                                                                                                  \n",
            " batch_normalization_13 (Ba  (None, 2, 2, 256)            1024      ['conv2d_13[0][0]']           \n",
            " tchNormalization)                                                                                \n",
            "                                                                                                  \n",
            " re_lu_11 (ReLU)             (None, 2, 2, 256)            0         ['batch_normalization_13[0][0]\n",
            "                                                                    ']                            \n",
            "                                                                                                  \n",
            " conv2d_14 (Conv2D)          (None, 2, 2, 256)            589824    ['re_lu_11[0][0]']            \n",
            "                                                                                                  \n",
            " batch_normalization_14 (Ba  (None, 2, 2, 256)            1024      ['conv2d_14[0][0]']           \n",
            " tchNormalization)                                                                                \n",
            "                                                                                                  \n",
            " add_5 (Add)                 (None, 2, 2, 256)            0         ['batch_normalization_14[0][0]\n",
            "                                                                    ',                            \n",
            "                                                                     're_lu_10[0][0]']            \n",
            "                                                                                                  \n",
            " re_lu_12 (ReLU)             (None, 2, 2, 256)            0         ['add_5[0][0]']               \n",
            "                                                                                                  \n",
            " conv2d_15 (Conv2D)          (None, 1, 1, 512)            1179648   ['re_lu_12[0][0]']            \n",
            "                                                                                                  \n",
            " batch_normalization_15 (Ba  (None, 1, 1, 512)            2048      ['conv2d_15[0][0]']           \n",
            " tchNormalization)                                                                                \n",
            "                                                                                                  \n",
            " re_lu_13 (ReLU)             (None, 1, 1, 512)            0         ['batch_normalization_15[0][0]\n",
            "                                                                    ']                            \n",
            "                                                                                                  \n",
            " conv2d_16 (Conv2D)          (None, 1, 1, 512)            2359296   ['re_lu_13[0][0]']            \n",
            "                                                                                                  \n",
            " conv2d_17 (Conv2D)          (None, 1, 1, 512)            131072    ['re_lu_12[0][0]']            \n",
            "                                                                                                  \n",
            " batch_normalization_16 (Ba  (None, 1, 1, 512)            2048      ['conv2d_16[0][0]']           \n",
            " tchNormalization)                                                                                \n",
            "                                                                                                  \n",
            " batch_normalization_17 (Ba  (None, 1, 1, 512)            2048      ['conv2d_17[0][0]']           \n",
            " tchNormalization)                                                                                \n",
            "                                                                                                  \n",
            " add_6 (Add)                 (None, 1, 1, 512)            0         ['batch_normalization_16[0][0]\n",
            "                                                                    ',                            \n",
            "                                                                     'batch_normalization_17[0][0]\n",
            "                                                                    ']                            \n",
            "                                                                                                  \n",
            " re_lu_14 (ReLU)             (None, 1, 1, 512)            0         ['add_6[0][0]']               \n",
            "                                                                                                  \n",
            " conv2d_18 (Conv2D)          (None, 1, 1, 512)            2359296   ['re_lu_14[0][0]']            \n",
            "                                                                                                  \n",
            " batch_normalization_18 (Ba  (None, 1, 1, 512)            2048      ['conv2d_18[0][0]']           \n",
            " tchNormalization)                                                                                \n",
            "                                                                                                  \n",
            " re_lu_15 (ReLU)             (None, 1, 1, 512)            0         ['batch_normalization_18[0][0]\n",
            "                                                                    ']                            \n",
            "                                                                                                  \n",
            " conv2d_19 (Conv2D)          (None, 1, 1, 512)            2359296   ['re_lu_15[0][0]']            \n",
            "                                                                                                  \n",
            " batch_normalization_19 (Ba  (None, 1, 1, 512)            2048      ['conv2d_19[0][0]']           \n",
            " tchNormalization)                                                                                \n",
            "                                                                                                  \n",
            " add_7 (Add)                 (None, 1, 1, 512)            0         ['batch_normalization_19[0][0]\n",
            "                                                                    ',                            \n",
            "                                                                     're_lu_14[0][0]']            \n",
            "                                                                                                  \n",
            " re_lu_16 (ReLU)             (None, 1, 1, 512)            0         ['add_7[0][0]']               \n",
            "                                                                                                  \n",
            " global_average_pooling2d (  (None, 512)                  0         ['re_lu_16[0][0]']            \n",
            " GlobalAveragePooling2D)                                                                          \n",
            "                                                                                                  \n",
            " dense (Dense)               (None, 10)                   5130      ['global_average_pooling2d[0][\n",
            "                                                                    0]']                          \n",
            "                                                                                                  \n",
            "==================================================================================================\n",
            "Total params: 11191242 (42.69 MB)\n",
            "Trainable params: 11181642 (42.65 MB)\n",
            "Non-trainable params: 9600 (37.50 KB)\n",
            "__________________________________________________________________________________________________\n"
          ]
        }
      ]
    },
    {
      "cell_type": "code",
      "source": [
        "(train_images, train_labels), (test_images, test_labels) = tf.keras.datasets.cifar10.load_data()\n",
        "train_images, test_images = train_images.astype('float32') / 255, test_images.astype('float32') / 255\n",
        "\n",
        "x_train, x_valid, y_train, y_valid = train_test_split(train_images, train_labels, test_size=0.2, random_state=42)\n"
      ],
      "metadata": {
        "id": "UikIZB4nECau"
      },
      "execution_count": 18,
      "outputs": []
    },
    {
      "cell_type": "code",
      "source": [
        "train_dataset = tf.data.Dataset.from_tensor_slices((x_train, y_train)).batch(64)\n",
        "valid_dataset = tf.data.Dataset.from_tensor_slices((x_valid, y_valid)).batch(64)\n"
      ],
      "metadata": {
        "id": "mwijQIUKEZQz"
      },
      "execution_count": 19,
      "outputs": []
    },
    {
      "cell_type": "code",
      "source": [
        "model = resnet18(input_shape=(32, 32, 3), num_classes=10)\n",
        "model.compile(optimizer=tf.keras.optimizers.Adam(learning_rate=0.001),\n",
        "              loss=tf.keras.losses.SparseCategoricalCrossentropy(),\n",
        "              metrics=['accuracy'])"
      ],
      "metadata": {
        "id": "h3C0KAbgEiBX"
      },
      "execution_count": 25,
      "outputs": []
    },
    {
      "cell_type": "code",
      "source": [
        "earlyStopping = callbacks.EarlyStopping(monitor='val_accuracy', patience=3, verbose=1, mode='min')\n",
        "mcp_save = callbacks.ModelCheckpoint('.model_cifar10.keras', save_best_only=True, monitor='val_loss', mode='min')\n",
        "reduce_lr_loss = callbacks.ReduceLROnPlateau(monitor='val_loss', factor=0.1, patience=7, verbose=1, min_delta=1e-4, mode='min')\n"
      ],
      "metadata": {
        "id": "6ZrBJScCElP1"
      },
      "execution_count": 26,
      "outputs": []
    },
    {
      "cell_type": "code",
      "source": [
        "# Train the model\n",
        "history_resnet = model.fit(\n",
        "    train_dataset,\n",
        "    epochs=10,\n",
        "    validation_data=valid_dataset,\n",
        "    callbacks=[earlyStopping, mcp_save, reduce_lr_loss]\n",
        ")"
      ],
      "metadata": {
        "colab": {
          "base_uri": "https://localhost:8080/"
        },
        "id": "GPtL9ssQEnIT",
        "outputId": "8d8b1310-b6e0-4b59-c1e8-1e060d259b3d"
      },
      "execution_count": 27,
      "outputs": [
        {
          "output_type": "stream",
          "name": "stdout",
          "text": [
            "Epoch 1/10\n",
            "625/625 [==============================] - 85s 129ms/step - loss: 1.5012 - accuracy: 0.4682 - val_loss: 1.5505 - val_accuracy: 0.4461 - lr: 0.0010\n",
            "Epoch 2/10\n",
            "625/625 [==============================] - 79s 127ms/step - loss: 1.0913 - accuracy: 0.6172 - val_loss: 2.1551 - val_accuracy: 0.3742 - lr: 0.0010\n",
            "Epoch 3/10\n",
            "625/625 [==============================] - 79s 127ms/step - loss: 0.8922 - accuracy: 0.6883 - val_loss: 1.4335 - val_accuracy: 0.5522 - lr: 0.0010\n",
            "Epoch 4/10\n",
            "625/625 [==============================] - 79s 126ms/step - loss: 0.7580 - accuracy: 0.7350 - val_loss: 1.5270 - val_accuracy: 0.5409 - lr: 0.0010\n",
            "Epoch 5/10\n",
            "625/625 [==============================] - 80s 127ms/step - loss: 0.6621 - accuracy: 0.7684 - val_loss: 1.2005 - val_accuracy: 0.6254 - lr: 0.0010\n",
            "Epoch 6/10\n",
            "625/625 [==============================] - 80s 128ms/step - loss: 0.5558 - accuracy: 0.8053 - val_loss: 1.0171 - val_accuracy: 0.6784 - lr: 0.0010\n",
            "Epoch 7/10\n",
            "625/625 [==============================] - 79s 126ms/step - loss: 0.4650 - accuracy: 0.8384 - val_loss: 1.4974 - val_accuracy: 0.5593 - lr: 0.0010\n",
            "Epoch 8/10\n",
            "625/625 [==============================] - 79s 127ms/step - loss: 0.3951 - accuracy: 0.8615 - val_loss: 1.8646 - val_accuracy: 0.5357 - lr: 0.0010\n",
            "Epoch 9/10\n",
            "625/625 [==============================] - 79s 127ms/step - loss: 0.3216 - accuracy: 0.8867 - val_loss: 1.6568 - val_accuracy: 0.6059 - lr: 0.0010\n",
            "Epoch 10/10\n",
            "625/625 [==============================] - 79s 126ms/step - loss: 0.2587 - accuracy: 0.9075 - val_loss: 1.2836 - val_accuracy: 0.6731 - lr: 0.0010\n"
          ]
        }
      ]
    },
    {
      "cell_type": "code",
      "source": [
        "# Accuracy Plot\n",
        "plt.subplot(1, 2, 1)\n",
        "plt.plot(history_resnet.history['accuracy'], label='Train Accuracy')\n",
        "plt.plot(history_resnet.history['val_accuracy'], label='Validation Accuracy')\n",
        "plt.title('Model Accuracy')\n",
        "plt.xlabel('Epoch')\n",
        "plt.ylabel('Accuracy')\n",
        "plt.legend(loc='upper left')\n",
        "\n",
        "# Loss Plot\n",
        "plt.subplot(1, 2, 2)\n",
        "plt.plot(history_resnet.history['loss'], label='Train Loss')\n",
        "plt.plot(history_resnet.history['val_loss'], label='Validation Loss')\n",
        "plt.title('Model Loss')\n",
        "plt.xlabel('Epoch')\n",
        "plt.ylabel('Loss')\n",
        "plt.legend(loc='upper right')\n",
        "\n",
        "plt.tight_layout()\n",
        "plt.show()"
      ],
      "metadata": {
        "colab": {
          "base_uri": "https://localhost:8080/",
          "height": 487
        },
        "id": "x2K7TGEzGeoq",
        "outputId": "84f989d3-d14a-4203-c311-b00a6cfdd55c"
      },
      "execution_count": 30,
      "outputs": [
        {
          "output_type": "display_data",
          "data": {
            "text/plain": [
              "<Figure size 640x480 with 2 Axes>"
            ],
            "image/png": "[encoded data removed]"
          },
          "metadata": {}
        }
      ]
    },
    {
      "cell_type": "code",
      "source": [
        "from tensorflow.keras.applications import MobileNetV2\n",
        "from tensorflow.keras import layers, models\n",
        "\n",
        "def create_fine_tuned_mobilenetv2(input_shape=(32, 32, 3), num_classes=10):\n",
        "    # Load pre-trained MobileNetV2\n",
        "    base_model = MobileNetV2(input_shape=input_shape, include_top=False, weights='imagenet')\n",
        "    base_model.trainable = False\n",
        "\n",
        "    model = models.Sequential([\n",
        "        base_model,\n",
        "        layers.GlobalAveragePooling2D(),\n",
        "        layers.Dense(256, activation='relu'),\n",
        "        layers.Dropout(0.5),\n",
        "        layers.Dense(num_classes, activation='softmax')\n",
        "    ])\n",
        "    return model\n",
        "\n",
        "# Fine-tuned MobileNetV2 model\n",
        "mobilenet_model = create_fine_tuned_mobilenetv2(input_shape=(32, 32, 3), num_classes=10)\n",
        "mobilenet_model.compile(optimizer=tf.keras.optimizers.Adam(learning_rate=0.0003),\n",
        "                        loss=tf.keras.losses.SparseCategoricalCrossentropy(),\n",
        "                        metrics=['accuracy'])\n"
      ],
      "metadata": {
        "colab": {
          "base_uri": "https://localhost:8080/"
        },
        "id": "LZwOF8OIE-pJ",
        "outputId": "6945e2b3-c677-4ad0-aca9-3597cd7c51ec"
      },
      "execution_count": 31,
      "outputs": [
        {
          "output_type": "stream",
          "name": "stderr",
          "text": [
            "WARNING:tensorflow:`input_shape` is undefined or non-square, or `rows` is not in [96, 128, 160, 192, 224]. Weights for input shape (224, 224) will be loaded as the default.\n"
          ]
        },
        {
          "output_type": "stream",
          "name": "stdout",
          "text": [
            "Downloading data from https://storage.googleapis.com/tensorflow/keras-applications/mobilenet_v2/mobilenet_v2_weights_tf_dim_ordering_tf_kernels_1.0_224_no_top.h5\n",
            "9406464/9406464 [==============================] - 0s 0us/step\n"
          ]
        }
      ]
    },
    {
      "cell_type": "code",
      "source": [
        "history_mobilenet = mobilenet_model.fit(\n",
        "    train_dataset,\n",
        "    epochs=10,\n",
        "    validation_data=valid_dataset,\n",
        "    callbacks=[earlyStopping, mcp_save, reduce_lr_loss]\n",
        ")\n"
      ],
      "metadata": {
        "colab": {
          "base_uri": "https://localhost:8080/"
        },
        "id": "3curIJ5LE_dl",
        "outputId": "adbbf311-be88-4757-91a1-47abde8a026c"
      },
      "execution_count": 32,
      "outputs": [
        {
          "output_type": "stream",
          "name": "stdout",
          "text": [
            "Epoch 1/10\n",
            "625/625 [==============================] - 23s 32ms/step - loss: 2.1046 - accuracy: 0.2436 - val_loss: 1.9634 - val_accuracy: 0.2930 - lr: 3.0000e-04\n",
            "Epoch 2/10\n",
            "625/625 [==============================] - 19s 30ms/step - loss: 1.9509 - accuracy: 0.2937 - val_loss: 1.9078 - val_accuracy: 0.3077 - lr: 3.0000e-04\n",
            "Epoch 3/10\n",
            "625/625 [==============================] - 19s 30ms/step - loss: 1.9096 - accuracy: 0.3092 - val_loss: 1.8852 - val_accuracy: 0.3149 - lr: 3.0000e-04\n",
            "Epoch 4/10\n",
            "625/625 [==============================] - 19s 31ms/step - loss: 1.8886 - accuracy: 0.3151 - val_loss: 1.8708 - val_accuracy: 0.3185 - lr: 3.0000e-04\n",
            "Epoch 5/10\n",
            "625/625 [==============================] - 19s 30ms/step - loss: 1.8720 - accuracy: 0.3219 - val_loss: 1.8597 - val_accuracy: 0.3240 - lr: 3.0000e-04\n",
            "Epoch 6/10\n",
            "625/625 [==============================] - 19s 30ms/step - loss: 1.8591 - accuracy: 0.3276 - val_loss: 1.8517 - val_accuracy: 0.3244 - lr: 3.0000e-04\n",
            "Epoch 7/10\n",
            "625/625 [==============================] - 19s 30ms/step - loss: 1.8474 - accuracy: 0.3323 - val_loss: 1.8441 - val_accuracy: 0.3273 - lr: 3.0000e-04\n",
            "Epoch 8/10\n",
            "625/625 [==============================] - 19s 31ms/step - loss: 1.8385 - accuracy: 0.3341 - val_loss: 1.8385 - val_accuracy: 0.3301 - lr: 3.0000e-04\n",
            "Epoch 9/10\n",
            "625/625 [==============================] - 19s 31ms/step - loss: 1.8295 - accuracy: 0.3367 - val_loss: 1.8326 - val_accuracy: 0.3302 - lr: 3.0000e-04\n",
            "Epoch 10/10\n",
            "625/625 [==============================] - 19s 30ms/step - loss: 1.8232 - accuracy: 0.3395 - val_loss: 1.8284 - val_accuracy: 0.3318 - lr: 3.0000e-04\n"
          ]
        }
      ]
    },
    {
      "cell_type": "code",
      "source": [
        "# Unfreeze the top layers of the base model for fine-tuning\n",
        "for layer in mobilenet_model.layers[0].layers[-20:]:\n",
        "    layer.trainable = True\n",
        "\n",
        "mobilenet_model.compile(optimizer=tf.keras.optimizers.Adam(learning_rate=0.0001),\n",
        "                        loss=tf.keras.losses.SparseCategoricalCrossentropy(),\n",
        "                        metrics=['accuracy'])\n",
        "\n",
        "# Re-Train the model\n",
        "history_fine_tune = mobilenet_model.fit(\n",
        "    train_dataset,\n",
        "    epochs=20,\n",
        "    validation_data=valid_dataset,\n",
        "    callbacks=[earlyStopping, mcp_save, reduce_lr_loss]\n",
        ")\n"
      ],
      "metadata": {
        "colab": {
          "base_uri": "https://localhost:8080/"
        },
        "id": "xjiQZqBqFBHq",
        "outputId": "f6820d2a-094e-4d4e-f368-dbf304731d1d"
      },
      "execution_count": null,
      "outputs": [
        {
          "output_type": "stream",
          "name": "stdout",
          "text": [
            "Epoch 1/20\n",
            "625/625 [==============================] - 24s 35ms/step - loss: 1.4463 - accuracy: 0.4823 - val_loss: 1.5886 - val_accuracy: 0.4398 - lr: 1.0000e-04\n",
            "Epoch 2/20\n",
            "625/625 [==============================] - 20s 32ms/step - loss: 1.4048 - accuracy: 0.4994 - val_loss: 1.5756 - val_accuracy: 0.4448 - lr: 1.0000e-04\n",
            "Epoch 3/20\n",
            "625/625 [==============================] - 20s 32ms/step - loss: 1.3682 - accuracy: 0.5120 - val_loss: 1.5654 - val_accuracy: 0.4504 - lr: 1.0000e-04\n",
            "Epoch 4/20\n",
            "625/625 [==============================] - 20s 32ms/step - loss: 1.3323 - accuracy: 0.5237 - val_loss: 1.5594 - val_accuracy: 0.4532 - lr: 1.0000e-04\n",
            "Epoch 5/20\n",
            "625/625 [==============================] - 20s 32ms/step - loss: 1.2963 - accuracy: 0.5376 - val_loss: 1.5545 - val_accuracy: 0.4547 - lr: 1.0000e-04\n",
            "Epoch 6/20\n",
            "625/625 [==============================] - 20s 32ms/step - loss: 1.2641 - accuracy: 0.5494 - val_loss: 1.5499 - val_accuracy: 0.4575 - lr: 1.0000e-04\n",
            "Epoch 7/20\n",
            "625/625 [==============================] - 20s 32ms/step - loss: 1.2353 - accuracy: 0.5570 - val_loss: 1.5473 - val_accuracy: 0.4607 - lr: 1.0000e-04\n",
            "Epoch 8/20\n",
            "624/625 [============================>.] - ETA: 0s - loss: 1.2024 - accuracy: 0.5686"
          ]
        }
      ]
    },
    {
      "cell_type": "code",
      "source": [
        "test_loss_mobilenet, test_acc_mobilenet = mobilenet_model.evaluate(test_images, test_labels, verbose=2)\n",
        "print(f\"MobileNetV2 Test Accuracy after Fine-Tuning: {test_acc_mobilenet:.4f}\")\n"
      ],
      "metadata": {
        "colab": {
          "base_uri": "https://localhost:8080/"
        },
        "id": "DlBKjIdVErdU",
        "outputId": "ef9c9256-e2c0-4204-94dc-73b629aa6571"
      },
      "execution_count": 34,
      "outputs": [
        {
          "output_type": "stream",
          "name": "stdout",
          "text": [
            "313/313 - 5s - loss: 1.6054 - accuracy: 0.4417 - 5s/epoch - 17ms/step\n",
            "MobileNetV2 Test Accuracy after Fine-Tuning: 0.4417\n"
          ]
        }
      ]
    },
    {
      "cell_type": "code",
      "source": [
        "test_loss_resnet, test_acc_resnet = model.evaluate(test_images, test_labels, verbose=2)\n",
        "print(f\"Resnet 18 Test Accuracy: {test_acc_resnet:.4f}\")"
      ],
      "metadata": {
        "colab": {
          "base_uri": "https://localhost:8080/"
        },
        "id": "fq-9l-l6FF9c",
        "outputId": "0ff1b697-a183-4e7e-9ab5-7503d67e571c"
      },
      "execution_count": 58,
      "outputs": [
        {
          "output_type": "stream",
          "name": "stdout",
          "text": [
            "313/313 - 5s - loss: 1.6349 - accuracy: 0.6378 - 5s/epoch - 16ms/step\n",
            "Resnet 18 Test Accuracy: 0.6378\n"
          ]
        }
      ]
    },
    {
      "cell_type": "code",
      "source": [
        "\n",
        "# Training & validation accuracy for the fine-tuning phase\n",
        "plt.figure(figsize=(12, 6))\n",
        "\n",
        "# MobileNetV2 fine-tuning accuracy\n",
        "plt.plot(history_mobilenet.history['accuracy'] + history_fine_tune.history['accuracy'], label='MobileNetV2 Train Accuracy')\n",
        "plt.plot(history_mobilenet.history['val_accuracy'] + history_fine_tune.history['val_accuracy'], label='MobileNetV2 Val Accuracy')\n",
        "plt.title('MobileNetV2 Fine-Tuning Accuracy')\n",
        "plt.xlabel('Epoch')\n",
        "plt.ylabel('Accuracy')\n",
        "plt.legend()\n",
        "plt.show()"
      ],
      "metadata": {
        "colab": {
          "base_uri": "https://localhost:8080/",
          "height": 564
        },
        "id": "UwFXef1kFg7Y",
        "outputId": "924f37cb-fa91-4f01-804f-76f91b302527"
      },
      "execution_count": 36,
      "outputs": [
        {
          "output_type": "display_data",
          "data": {
            "text/plain": [
              "<Figure size 1200x600 with 1 Axes>"
            ],
            "image/png": "[encoded data removed]"
          },
          "metadata": {}
        }
      ]
    },
    {
      "cell_type": "code",
      "source": [
        "from tensorflow.keras.optimizers import SGD, Adam, RMSprop\n",
        "\n",
        "# Define various optimizers\n",
        "optimizers = {\n",
        "    \"SGD\": SGD(learning_rate=0.01, momentum=0.9),\n",
        "    \"Adam\": Adam(learning_rate=0.0001),\n",
        "    \"RMSprop\": RMSprop(learning_rate=0.001)\n",
        "}\n",
        "\n",
        "# Choose an optimizer for the experiment\n",
        "chosen_optimizer = optimizers[\"SGD\"]\n",
        "\n",
        "model_SDG = resnet18(input_shape=(32, 32, 3), num_classes=10)\n",
        "\n"
      ],
      "metadata": {
        "id": "XZBUC74IOz9u"
      },
      "execution_count": 50,
      "outputs": []
    },
    {
      "cell_type": "code",
      "source": [
        "model_SDG.compile(optimizer=chosen_optimizer,\n",
        "              loss=tf.keras.losses.SparseCategoricalCrossentropy(),\n",
        "              metrics=['accuracy'])"
      ],
      "metadata": {
        "id": "PNIiL3IHYpPx"
      },
      "execution_count": 51,
      "outputs": []
    },
    {
      "cell_type": "code",
      "source": [
        "history_resnet_SDG = model_SDG.fit(\n",
        "    train_dataset,\n",
        "    epochs=10,\n",
        "    validation_data=valid_dataset,\n",
        "    callbacks=[earlyStopping, mcp_save, reduce_lr_loss]\n",
        ")"
      ],
      "metadata": {
        "colab": {
          "base_uri": "https://localhost:8080/"
        },
        "id": "oxUGfdiUYtFL",
        "outputId": "bb8f950a-e860-41cb-93b1-46497cf99549"
      },
      "execution_count": 52,
      "outputs": [
        {
          "output_type": "stream",
          "name": "stdout",
          "text": [
            "Epoch 1/10\n",
            "625/625 [==============================] - 78s 122ms/step - loss: 1.8288 - accuracy: 0.4011 - val_loss: 1.7154 - val_accuracy: 0.3751 - lr: 0.0100\n",
            "Epoch 2/10\n",
            "625/625 [==============================] - 75s 121ms/step - loss: 1.4191 - accuracy: 0.5162 - val_loss: 1.2607 - val_accuracy: 0.5574 - lr: 0.0100\n",
            "Epoch 3/10\n",
            "625/625 [==============================] - 76s 121ms/step - loss: 1.2032 - accuracy: 0.5925 - val_loss: 1.3078 - val_accuracy: 0.5477 - lr: 0.0100\n",
            "Epoch 4/10\n",
            "625/625 [==============================] - 75s 120ms/step - loss: 1.0430 - accuracy: 0.6470 - val_loss: 1.2442 - val_accuracy: 0.5687 - lr: 0.0100\n",
            "Epoch 5/10\n",
            "625/625 [==============================] - 75s 121ms/step - loss: 0.8672 - accuracy: 0.7010 - val_loss: 1.3361 - val_accuracy: 0.5689 - lr: 0.0100\n",
            "Epoch 6/10\n",
            "625/625 [==============================] - 75s 121ms/step - loss: 0.7293 - accuracy: 0.7487 - val_loss: 1.4323 - val_accuracy: 0.5694 - lr: 0.0100\n",
            "Epoch 7/10\n",
            "625/625 [==============================] - 76s 121ms/step - loss: 0.6034 - accuracy: 0.7929 - val_loss: 1.6134 - val_accuracy: 0.5509 - lr: 0.0100\n",
            "Epoch 8/10\n",
            "625/625 [==============================] - 75s 121ms/step - loss: 0.5162 - accuracy: 0.8208 - val_loss: 1.3835 - val_accuracy: 0.6141 - lr: 0.0100\n",
            "Epoch 9/10\n",
            "625/625 [==============================] - 75s 121ms/step - loss: 0.4499 - accuracy: 0.8436 - val_loss: 2.3071 - val_accuracy: 0.5109 - lr: 0.0100\n",
            "Epoch 10/10\n",
            "625/625 [==============================] - 75s 121ms/step - loss: 0.3831 - accuracy: 0.8648 - val_loss: 1.7410 - val_accuracy: 0.5836 - lr: 0.0100\n"
          ]
        }
      ]
    },
    {
      "cell_type": "code",
      "source": [
        "test_loss_resnet, test_acc_resnet = model_SDG.evaluate(test_images, test_labels, verbose=2)\n",
        "print(f\"Resnet 18 Test Accuracy: {test_acc_resnet:.4f}\")"
      ],
      "metadata": {
        "colab": {
          "base_uri": "https://localhost:8080/"
        },
        "id": "VWzrdaDjiOEm",
        "outputId": "5ad79bb9-0b17-4880-98ba-a2ff2e76f00d"
      },
      "execution_count": 57,
      "outputs": [
        {
          "output_type": "stream",
          "name": "stdout",
          "text": [
            "313/313 - 5s - loss: 1.7970 - accuracy: 0.5674 - 5s/epoch - 16ms/step\n",
            "Resnet 18 Test Accuracy after Fine-Tuning: 0.5674\n"
          ]
        }
      ]
    },
    {
      "cell_type": "code",
      "source": [
        "chosen_optimizer = optimizers[\"RMSprop\"]\n"
      ],
      "metadata": {
        "id": "PUlB8ke0YwqS"
      },
      "execution_count": 69,
      "outputs": []
    },
    {
      "cell_type": "code",
      "source": [
        "model_RMSprop = resnet18(input_shape=(32, 32, 3), num_classes=10)\n",
        "\n",
        "model_RMSprop.compile(optimizer=chosen_optimizer,\n",
        "              loss=tf.keras.losses.SparseCategoricalCrossentropy(),\n",
        "              metrics=['accuracy'])"
      ],
      "metadata": {
        "id": "u8RAIAHpY3mv"
      },
      "execution_count": 70,
      "outputs": []
    },
    {
      "cell_type": "code",
      "source": [
        "history_resnet_Adam = model_RMSprop.fit(\n",
        "    train_dataset,\n",
        "    epochs=20,\n",
        "    validation_data=valid_dataset,\n",
        "    callbacks=[earlyStopping, mcp_save, reduce_lr_loss]\n",
        ")"
      ],
      "metadata": {
        "colab": {
          "base_uri": "https://localhost:8080/"
        },
        "id": "TRa4m8MFZW-Q",
        "outputId": "9b3ca2c6-cfe7-446e-e7f9-9134c49129d7"
      },
      "execution_count": 72,
      "outputs": [
        {
          "output_type": "stream",
          "name": "stdout",
          "text": [
            "Epoch 1/20\n",
            "625/625 [==============================] - 82s 126ms/step - loss: 1.5555 - accuracy: 0.4631 - val_loss: 1.8311 - val_accuracy: 0.4102 - lr: 0.0010\n",
            "Epoch 2/20\n",
            "625/625 [==============================] - 78s 125ms/step - loss: 1.0801 - accuracy: 0.6240 - val_loss: 1.5907 - val_accuracy: 0.4953 - lr: 0.0010\n",
            "Epoch 3/20\n",
            "625/625 [==============================] - 78s 125ms/step - loss: 0.8754 - accuracy: 0.6977 - val_loss: 1.2118 - val_accuracy: 0.5910 - lr: 0.0010\n",
            "Epoch 4/20\n",
            "625/625 [==============================] - 78s 125ms/step - loss: 0.7265 - accuracy: 0.7498 - val_loss: 1.2148 - val_accuracy: 0.6119 - lr: 0.0010\n",
            "Epoch 5/20\n",
            "625/625 [==============================] - 78s 125ms/step - loss: 0.5917 - accuracy: 0.7974 - val_loss: 1.4497 - val_accuracy: 0.5948 - lr: 0.0010\n",
            "Epoch 6/20\n",
            "625/625 [==============================] - 78s 125ms/step - loss: 0.4746 - accuracy: 0.8362 - val_loss: 1.4621 - val_accuracy: 0.6122 - lr: 0.0010\n",
            "Epoch 7/20\n",
            "625/625 [==============================] - 78s 125ms/step - loss: 0.3760 - accuracy: 0.8692 - val_loss: 1.3327 - val_accuracy: 0.6453 - lr: 0.0010\n",
            "Epoch 8/20\n",
            "625/625 [==============================] - 78s 124ms/step - loss: 0.3004 - accuracy: 0.8942 - val_loss: 1.6411 - val_accuracy: 0.6441 - lr: 0.0010\n",
            "Epoch 9/20\n",
            "625/625 [==============================] - 78s 125ms/step - loss: 0.2498 - accuracy: 0.9113 - val_loss: 1.8591 - val_accuracy: 0.6461 - lr: 0.0010\n",
            "Epoch 10/20\n",
            "625/625 [==============================] - ETA: 0s - loss: 0.2171 - accuracy: 0.9259\n",
            "Epoch 10: ReduceLROnPlateau reducing learning rate to 0.00010000000474974513.\n",
            "625/625 [==============================] - 78s 125ms/step - loss: 0.2171 - accuracy: 0.9259 - val_loss: 1.9229 - val_accuracy: 0.6446 - lr: 0.0010\n",
            "Epoch 11/20\n",
            "625/625 [==============================] - 78s 124ms/step - loss: 0.1154 - accuracy: 0.9600 - val_loss: 1.0929 - val_accuracy: 0.7544 - lr: 1.0000e-04\n",
            "Epoch 11: early stopping\n"
          ]
        }
      ]
    },
    {
      "cell_type": "code",
      "source": [
        "test_loss_resnet, test_acc_resnet = model_Adam.evaluate(test_images, test_labels, verbose=2)\n",
        "print(f\"Resnet 18 Test Accuracy: {test_acc_resnet:.4f}\")"
      ],
      "metadata": {
        "colab": {
          "base_uri": "https://localhost:8080/"
        },
        "id": "a3nY9s9qZcDT",
        "outputId": "5bbb3167-23ef-4d05-dfad-b120fd5cf0c4"
      },
      "execution_count": 59,
      "outputs": [
        {
          "output_type": "stream",
          "name": "stdout",
          "text": [
            "313/313 - 5s - loss: 1.8069 - accuracy: 0.6059 - 5s/epoch - 16ms/step\n",
            "Resnet 18 Test Accuracy: 0.6059\n"
          ]
        }
      ]
    },
    {
      "cell_type": "code",
      "source": [],
      "metadata": {
        "id": "mTc9701Di2Qx"
      },
      "execution_count": null,
      "outputs": []
    }
  ]
}